{
  "cells": [
    {
      "cell_type": "code",
      "execution_count": 1,
      "metadata": {
        "colab": {
          "base_uri": "https://localhost:8080/"
        },
        "id": "59ymUgk7rv71",
        "outputId": "c834e74d-87fc-43a1-b6cc-9efc2bb4786e"
      },
      "outputs": [
        {
          "name": "stdout",
          "output_type": "stream",
          "text": [
            "Collecting python-pptx\n",
            "  Downloading python_pptx-0.6.23-py3-none-any.whl (471 kB)\n",
            "\u001b[2K     \u001b[90m━━━━━━━━━━━━━━━━━━━━━━━━━━━━━━━━━━━━━━━━\u001b[0m \u001b[32m471.6/471.6 kB\u001b[0m \u001b[31m5.4 MB/s\u001b[0m eta \u001b[36m0:00:00\u001b[0m\n",
            "\u001b[?25hRequirement already satisfied: lxml>=3.1.0 in /usr/local/lib/python3.10/dist-packages (from python-pptx) (4.9.3)\n",
            "Requirement already satisfied: Pillow>=3.3.2 in /usr/local/lib/python3.10/dist-packages (from python-pptx) (9.4.0)\n",
            "Collecting XlsxWriter>=0.5.7 (from python-pptx)\n",
            "  Downloading XlsxWriter-3.1.9-py3-none-any.whl (154 kB)\n",
            "\u001b[2K     \u001b[90m━━━━━━━━━━━━━━━━━━━━━━━━━━━━━━━━━━━━━━━━\u001b[0m \u001b[32m154.8/154.8 kB\u001b[0m \u001b[31m10.1 MB/s\u001b[0m eta \u001b[36m0:00:00\u001b[0m\n",
            "\u001b[?25hInstalling collected packages: XlsxWriter, python-pptx\n",
            "Successfully installed XlsxWriter-3.1.9 python-pptx-0.6.23\n",
            "\u001b[2K     \u001b[90m━━━━━━━━━━━━━━━━━━━━━━━━━━━━━━━━━━━━━━━━\u001b[0m \u001b[32m146.9/146.9 kB\u001b[0m \u001b[31m3.8 MB/s\u001b[0m eta \u001b[36m0:00:00\u001b[0m\n",
            "\u001b[?25h"
          ]
        }
      ],
      "source": [
        "!pip install python-pptx\n",
        "!pip install -q -U google-generativeai"
      ]
    },
    {
      "cell_type": "code",
      "execution_count": 2,
      "metadata": {
        "id": "cZ-5Uxu-sm64"
      },
      "outputs": [],
      "source": [
        "import pathlib\n",
        "import textwrap\n",
        "\n",
        "import google.generativeai as genai\n",
        "\n",
        "# Used to securely store your API key\n",
        "from google.colab import userdata\n",
        "\n",
        "from IPython.display import display\n",
        "from IPython.display import Markdown\n",
        "\n",
        "\n",
        "def to_markdown(text):\n",
        "  text = text.replace('•', '  *')\n",
        "  return Markdown(textwrap.indent(text, '> ', predicate=lambda _: True))"
      ]
    },
    {
      "cell_type": "code",
      "execution_count": 3,
      "metadata": {
        "id": "KCnt9fKrsz84"
      },
      "outputs": [],
      "source": [
        "import os\n",
        "os.getenv(\"GOOGLE_API_KEY\")\n",
        "genai.configure(api_key=os.getenv(\"GOOGLE_API_KEY\"))"
      ]
    },
    {
      "cell_type": "code",
      "execution_count": 5,
      "metadata": {
        "id": "mMk6pWoktDcd"
      },
      "outputs": [],
      "source": [
        "model = genai.GenerativeModel('gemini-pro')"
      ]
    },
    {
      "cell_type": "code",
      "execution_count": 6,
      "metadata": {
        "colab": {
          "base_uri": "https://localhost:8080/"
        },
        "id": "-n9aVlj2tDfo",
        "outputId": "270d6492-9782-42b0-efcc-2209ccbf7f38"
      },
      "outputs": [
        {
          "data": {
            "text/plain": [
              " genai.GenerativeModel(\n",
              "   model_name='models/gemini-pro',\n",
              "   generation_config={}.\n",
              "   safety_settings={}\n",
              ")"
            ]
          },
          "execution_count": 6,
          "metadata": {},
          "output_type": "execute_result"
        }
      ],
      "source": [
        "model"
      ]
    },
    {
      "cell_type": "code",
      "execution_count": 7,
      "metadata": {
        "id": "RVQBcrKOuizL"
      },
      "outputs": [],
      "source": [
        "no_of_slide=4\n",
        "topic = \"AI Replace Human\""
      ]
    },
    {
      "cell_type": "code",
      "execution_count": null,
      "metadata": {},
      "outputs": [],
      "source": []
    },
    {
      "cell_type": "code",
      "execution_count": 8,
      "metadata": {
        "id": "1J6-0-xdtiCS"
      },
      "outputs": [],
      "source": [
        "prompt1 =f\"Generate a {no_of_slide} sub-titles only  on the topic of {topic}\""
      ]
    },
    {
      "cell_type": "code",
      "execution_count": 9,
      "metadata": {
        "id": "glIM0I8Uu6aj"
      },
      "outputs": [],
      "source": [
        "response = model.generate_content(prompt1)"
      ]
    },
    {
      "cell_type": "code",
      "execution_count": 10,
      "metadata": {
        "colab": {
          "base_uri": "https://localhost:8080/",
          "height": 114
        },
        "id": "QBfmJiyTvOHd",
        "outputId": "c04197b1-42bc-4653-fa89-c711446921fb"
      },
      "outputs": [
        {
          "data": {
            "text/markdown": [
              "> 1. \"The Coming AI Revolution: How Artificial Intelligence Will Transform Our World\"\n",
              "> 2. \"The Rise of the Machines: Will AI Make Us Obsolete?\"\n",
              "> 3. \"Human 2.0: The End of the Human Era?\"\n",
              "> 4. \"Beyond Humanity: The Future of AI and the Human Race\""
            ],
            "text/plain": [
              "<IPython.core.display.Markdown object>"
            ]
          },
          "execution_count": 10,
          "metadata": {},
          "output_type": "execute_result"
        }
      ],
      "source": [
        "to_markdown(response.text)"
      ]
    },
    {
      "cell_type": "code",
      "execution_count": 11,
      "metadata": {
        "colab": {
          "base_uri": "https://localhost:8080/",
          "height": 54
        },
        "id": "PB4Nzj7Ty6Mh",
        "outputId": "05ff4630-bc6b-4064-cae6-63fc504a316c"
      },
      "outputs": [
        {
          "data": {
            "application/vnd.google.colaboratory.intrinsic+json": {
              "type": "string"
            },
            "text/plain": [
              "'1. \"The Coming AI Revolution: How Artificial Intelligence Will Transform Our World\"\\n2. \"The Rise of the Machines: Will AI Make Us Obsolete?\"\\n3. \"Human 2.0: The End of the Human Era?\"\\n4. \"Beyond Humanity: The Future of AI and the Human Race\"'"
            ]
          },
          "execution_count": 11,
          "metadata": {},
          "output_type": "execute_result"
        }
      ],
      "source": [
        "response.text"
      ]
    },
    {
      "cell_type": "code",
      "execution_count": 12,
      "metadata": {
        "id": "nYoMIpaAvxEs"
      },
      "outputs": [],
      "source": [
        "sub_topics = response.text.split(\"\\n\")"
      ]
    },
    {
      "cell_type": "code",
      "execution_count": 13,
      "metadata": {
        "colab": {
          "base_uri": "https://localhost:8080/"
        },
        "id": "jnMIQ4QqyimS",
        "outputId": "d708e5d9-c4ff-4ce4-974d-5ae2a3557b18"
      },
      "outputs": [
        {
          "data": {
            "text/plain": [
              "['1. \"The Coming AI Revolution: How Artificial Intelligence Will Transform Our World\"',\n",
              " '2. \"The Rise of the Machines: Will AI Make Us Obsolete?\"',\n",
              " '3. \"Human 2.0: The End of the Human Era?\"',\n",
              " '4. \"Beyond Humanity: The Future of AI and the Human Race\"']"
            ]
          },
          "execution_count": 13,
          "metadata": {},
          "output_type": "execute_result"
        }
      ],
      "source": [
        "sub_topics"
      ]
    },
    {
      "cell_type": "code",
      "execution_count": 120,
      "metadata": {
        "id": "jNd4aYYHhqgX"
      },
      "outputs": [],
      "source": [
        "sub_titles = []\n",
        "def refine_subtopics(sub_topics, sub_titles):\n",
        "    for sub_topic in sub_topics:\n",
        "        sub_titles.append(sub_topic[3:].replace('\"',\"\"))\n",
        "    return sub_titles"
      ]
    },
    {
      "cell_type": "code",
      "execution_count": 121,
      "metadata": {
        "id": "sx2zxjCMilFk"
      },
      "outputs": [],
      "source": [
        "sub_titles = refine_subtopics(sub_topics, sub_titles)"
      ]
    },
    {
      "cell_type": "code",
      "execution_count": 122,
      "metadata": {
        "colab": {
          "base_uri": "https://localhost:8080/"
        },
        "id": "by_NuG-uiuoS",
        "outputId": "8aed7d94-1900-4e58-c4ad-d49fef464700"
      },
      "outputs": [
        {
          "data": {
            "text/plain": [
              "['The Coming AI Revolution: How Artificial Intelligence Will Transform Our World',\n",
              " 'The Rise of the Machines: Will AI Make Us Obsolete?',\n",
              " 'Human 2.0: The End of the Human Era?',\n",
              " 'Beyond Humanity: The Future of AI and the Human Race']"
            ]
          },
          "execution_count": 122,
          "metadata": {},
          "output_type": "execute_result"
        }
      ],
      "source": [
        "sub_titles"
      ]
    },
    {
      "cell_type": "code",
      "execution_count": 123,
      "metadata": {
        "id": "xmA2znLHjCEN"
      },
      "outputs": [],
      "source": [
        "content = []\n",
        "def content_generation(sub_titles, model):\n",
        "    for i in sub_titles:\n",
        "        prompt = f\"Generate a content of {i} for presentation slide on the 2 bullet point only each of point 20 tokens\"\n",
        "        response = model.generate_content(prompt)\n",
        "        content.append(response.text)\n",
        "    return content\n",
        "\n"
      ]
    },
    {
      "cell_type": "code",
      "execution_count": 124,
      "metadata": {
        "id": "A3APoqsZloGO"
      },
      "outputs": [],
      "source": [
        "content = content_generation(sub_titles, model)"
      ]
    },
    {
      "cell_type": "code",
      "execution_count": 125,
      "metadata": {
        "colab": {
          "base_uri": "https://localhost:8080/"
        },
        "id": "W8nmrRSkxNd2",
        "outputId": "11399730-4be8-41b8-d2cd-bbc41b06dadc"
      },
      "outputs": [
        {
          "data": {
            "text/plain": [
              "['1. **Understanding Artificial Intelligence:**\\n   - AI is the simulation of human intelligence processes like learning, reasoning, and problem-solving by machines.\\n   - It encompasses various subfields such as machine learning, natural language processing, computer vision, and robotics.\\n2. **Impact on Industries:**\\n   - AI is revolutionizing industries across the board:\\n   - Automating tasks, improving efficiency, and enhancing decision-making.\\n   - From manufacturing and finance to healthcare and retail, AI is transforming business operations.\\n3. **Advancements in Automation:**\\n   - AI-powered robots and machines are automating repetitive and dangerous tasks:\\n   - Increasing productivity and safety in various sectors.\\n   - From manufacturing assembly lines to autonomous vehicles, automation driven by AI is reshaping industries.\\n4. **Redefining Healthcare:**\\n   - AI is enabling faster and more accurate diagnosis:\\n   - Assisting healthcare professionals in analyzing patient data, medical images, and electronic health records.\\n   - AI-driven personalized medicine is revolutionizing treatment plans.\\n5. **Enhancing Transportation:**\\n   - AI is powering autonomous vehicles:\\n   - Promising safer and more efficient transportation.\\n   - Self-driving cars, trucks, and even aircraft are being developed, leveraging AI for navigation, obstacle detection, and decision-making.',\n",
              " '* **Rise of AI and Automation:**\\n    - Rapid advancements in AI and automation technologies.\\n    - Increasing efficiency and productivity in various industries.\\n\\n\\n* **Impact on Employment:**\\n    - Automation may lead to job displacement and job losses.\\n    - Retraining and upskilling may be necessary for workers.',\n",
              " '- **Bullet 1:**\\n   - Advancements in technology, particularly AI, are blurring the lines between humans and machines, leading to ethical and societal dilemmas.\\n   - Human 2.0 raises questions about identity, autonomy, and the future of humanity itself.\\n\\n\\n- **Bullet 2:**\\n   - Human augmentation through technology, such as cybernetic implants and genetic engineering, is becoming a reality, challenging traditional notions of what it means to be human.\\n   - The merging of humans and machines could lead to new forms of inequality and discrimination.',\n",
              " \"**Slide 1: Introduction**\\n\\n- The rise of artificial intelligence (AI) is transforming our world.\\n- AI has the potential to solve some of humanity's most pressing challenges and create a better future.\\n\\n**Slide 2: The Benefits of AI**\\n\\n- Improved healthcare and medicine.\\n- Increased efficiency and productivity.\\n- Enhanced creativity and problem-solving.\\n\\n**Slide 3: The Challenges of AI**\\n\\n- The potential for job displacement.\\n- The risk of bias and discrimination.\\n- The loss of human connection.\\n\\n**Slide 4: The Future of AI and the Human Race**\\n\\n- AI will continue to evolve and become more sophisticated.\\n- Humans and AI will increasingly work together to solve complex problems.\\n- AI will play a key role in shaping the future of humanity.\\n\\n**Slide 5: Conclusion**\\n\\n- AI has the potential to create a better future for humanity.\\n- We need to work together to ensure that AI is used responsibly and ethically.\"]"
            ]
          },
          "execution_count": 125,
          "metadata": {},
          "output_type": "execute_result"
        }
      ],
      "source": [
        "content"
      ]
    },
    {
      "cell_type": "code",
      "execution_count": 126,
      "metadata": {
        "id": "oM3YCHxCxakK"
      },
      "outputs": [],
      "source": [
        "import re\n",
        "\n",
        "def clean_text(text):\n",
        "    # Remove extra whitespaces and newlines\n",
        "    cleaned_text = re.sub('\\s+', ' ', text).strip()\n",
        "\n",
        "    # Remove markdown-style bullet points, asterisks, and numeric bullet points\n",
        "    cleaned_text = re.sub(r'[*-]\\s*|\\d+\\.\\s*', '', cleaned_text)\n",
        "\n",
        "    # Remove extra spaces before and after colons\n",
        "    cleaned_text = re.sub(r'\\s*:\\s*', ': ', cleaned_text)\n",
        "\n",
        "    # Remove extra spaces before and after hyphens\n",
        "    cleaned_text = re.sub(r'\\s*-\\s*', ' - ', cleaned_text)\n",
        "\n",
        "    return cleaned_text\n",
        "\n",
        "\n",
        "\n"
      ]
    },
    {
      "cell_type": "code",
      "execution_count": 127,
      "metadata": {
        "id": "SOD761SDx0oV"
      },
      "outputs": [],
      "source": [
        "\n",
        "\n",
        "def split_sentences(text):\n",
        "    # Split the text into sentences using regular expression\n",
        "    sentences = re.split(r'(?<=\\.)\\s+', text)\n",
        "\n",
        "    # Capitalize the first letter of each sentence\n",
        "    sentences = [sentence.capitalize() for sentence in sentences]\n",
        "\n",
        "    return sentences\n",
        "\n",
        "\n",
        "\n",
        "\n"
      ]
    },
    {
      "cell_type": "code",
      "execution_count": 128,
      "metadata": {
        "id": "cq1psh5y51xz"
      },
      "outputs": [],
      "source": [
        "def replace_and_capitalize(text):\n",
        "    # Define a function to replace and capitalize the text between colons\n",
        "    def replace_and_capitalize_colon(match):\n",
        "        return match.group(1) + match.group(2).capitalize() + match.group(3)\n",
        "\n",
        "    # Use regular expression to find and replace text between colons\n",
        "    result = re.sub(r'(:\\s*)(.*?)(\\s*:[^:]|$)', replace_and_capitalize_colon, text)\n",
        "\n",
        "    return result\n"
      ]
    },
    {
      "cell_type": "code",
      "execution_count": 129,
      "metadata": {
        "id": "DMNFaVa30Hu4"
      },
      "outputs": [],
      "source": [
        "cleaned_text = clean_text(content[0])\n",
        "sentences = split_sentences(cleaned_text)"
      ]
    },
    {
      "cell_type": "code",
      "execution_count": 130,
      "metadata": {
        "id": "d1plDSk-zzbZ"
      },
      "outputs": [],
      "source": [
        "final_content = []\n",
        "for i in content:\n",
        "    cleaned_text = clean_text(i)\n",
        "    sentences = split_sentences(cleaned_text)\n",
        "    final_content.append(sentences)"
      ]
    },
    {
      "cell_type": "code",
      "execution_count": 131,
      "metadata": {
        "colab": {
          "base_uri": "https://localhost:8080/"
        },
        "id": "npV2VGMAzoMA",
        "outputId": "d6c5a1e7-3542-4b1b-a9b0-c3302609df39"
      },
      "outputs": [
        {
          "data": {
            "text/plain": [
              "['Understanding artificial intelligence: ai is the simulation of human intelligence processes like learning, reasoning, and problemsolving by machines.',\n",
              " 'It encompasses various subfields such as machine learning, natural language processing, computer vision, and robotics.',\n",
              " 'Impact on industries: ai is revolutionizing industries across the board: automating tasks, improving efficiency, and enhancing decisionmaking.',\n",
              " 'From manufacturing and finance to healthcare and retail, ai is transforming business operations.',\n",
              " 'Advancements in automation: aipowered robots and machines are automating repetitive and dangerous tasks: increasing productivity and safety in various sectors.',\n",
              " 'From manufacturing assembly lines to autonomous vehicles, automation driven by ai is reshaping industries.',\n",
              " 'Redefining healthcare: ai is enabling faster and more accurate diagnosis: assisting healthcare professionals in analyzing patient data, medical images, and electronic health records.',\n",
              " 'Aidriven personalized medicine is revolutionizing treatment plans.',\n",
              " 'Enhancing transportation: ai is powering autonomous vehicles: promising safer and more efficient transportation.',\n",
              " 'Selfdriving cars, trucks, and even aircraft are being developed, leveraging ai for navigation, obstacle detection, and decisionmaking.']"
            ]
          },
          "execution_count": 131,
          "metadata": {},
          "output_type": "execute_result"
        }
      ],
      "source": [
        "final_content[0]"
      ]
    },
    {
      "cell_type": "code",
      "execution_count": 24,
      "metadata": {
        "colab": {
          "base_uri": "https://localhost:8080/"
        },
        "id": "yduPy4wLBoHW",
        "outputId": "a3361e9b-1872-43e6-f48f-81153c6eef34"
      },
      "outputs": [
        {
          "data": {
            "text/plain": [
              "['Automation and job displacement: aipowered automation threatens routine and repetitive jobs, leading to job displacement in numerous industries.',\n",
              " 'The impact spans bluecollar and whitecollar jobs, raising concerns about widespread unemployment.',\n",
              " \"Ai's capabilities and limitations: ai's growing sophistication in tasks like image recognition, natural language processing, and decisionmaking blurs the line between human and machine capabilities.\",\n",
              " 'However, ai still faces limitations in creativity, empathy, and the ability to handle complex, unstructured tasks, requiring human oversight and collaboration.']"
            ]
          },
          "execution_count": 24,
          "metadata": {},
          "output_type": "execute_result"
        }
      ],
      "source": [
        "final_content[1]"
      ]
    },
    {
      "cell_type": "code",
      "execution_count": 25,
      "metadata": {
        "colab": {
          "base_uri": "https://localhost:8080/"
        },
        "id": "TD6IBHI91dXm",
        "outputId": "a1504ff2-5fb5-448a-a22a-e1b5fb9d74e7"
      },
      "outputs": [
        {
          "data": {
            "text/plain": [
              "['Humans have embarked on a journey of technological advancements, pushing the boundaries of human capabilities and ushering in an era of unprecedented opportunities and challenges.',\n",
              " 'Human 0: the end of the human era?, explores the potential consequences of these advancements and the implications for the future of our species.']"
            ]
          },
          "execution_count": 25,
          "metadata": {},
          "output_type": "execute_result"
        }
      ],
      "source": [
        "final_content[2]"
      ]
    },
    {
      "cell_type": "code",
      "execution_count": 26,
      "metadata": {
        "colab": {
          "base_uri": "https://localhost:8080/"
        },
        "id": "m-2hzAIW1han",
        "outputId": "f24625ba-5b66-49ca-d58a-e08f308ede38"
      },
      "outputs": [
        {
          "data": {
            "text/plain": [
              "[\"Technological advancements: ai's rapid evolution: exponential growth in computing power and data availability.\",\n",
              " 'Machine learning and deep learning: algorithms capable of learning and improving without explicit programming.',\n",
              " 'Convergence of technologies: iot and ai integration: devices and sensors constantly feeding data to ai systems.',\n",
              " 'Ai in healthcare: aipowered diagnostics, personalized medicine, and targeted therapies.']"
            ]
          },
          "execution_count": 26,
          "metadata": {},
          "output_type": "execute_result"
        }
      ],
      "source": [
        "final_content[3]"
      ]
    },
    {
      "cell_type": "code",
      "execution_count": 27,
      "metadata": {
        "colab": {
          "base_uri": "https://localhost:8080/"
        },
        "id": "O3l73gipCuDg",
        "outputId": "ab3dd839-2a15-4a6f-8905-e9a460646f4c"
      },
      "outputs": [
        {
          "name": "stdout",
          "output_type": "stream",
          "text": [
            "Requirement already satisfied: python-pptx in /usr/local/lib/python3.10/dist-packages (0.6.23)\n",
            "Requirement already satisfied: lxml>=3.1.0 in /usr/local/lib/python3.10/dist-packages (from python-pptx) (4.9.3)\n",
            "Requirement already satisfied: Pillow>=3.3.2 in /usr/local/lib/python3.10/dist-packages (from python-pptx) (9.4.0)\n",
            "Requirement already satisfied: XlsxWriter>=0.5.7 in /usr/local/lib/python3.10/dist-packages (from python-pptx) (3.1.9)\n"
          ]
        }
      ],
      "source": [
        "!pip install python-pptx"
      ]
    },
    {
      "cell_type": "code",
      "execution_count": 28,
      "metadata": {
        "id": "ZI2QGE2WJpi_"
      },
      "outputs": [],
      "source": [
        "from pptx.util import Pt\n",
        "\n",
        "from pptx.dml.color import RGBColor\n",
        "\n",
        "from pptx import Presentation"
      ]
    },
    {
      "cell_type": "code",
      "execution_count": 132,
      "metadata": {
        "id": "G9sUjWq8J1dG"
      },
      "outputs": [],
      "source": [
        "powerpoint = Presentation()"
      ]
    },
    {
      "cell_type": "code",
      "execution_count": 133,
      "metadata": {
        "id": "d5TmfLleshiF"
      },
      "outputs": [],
      "source": [
        "def slide_maker(powerpoint, sub_titles, final_content):\n",
        "    title_slide_layout = powerpoint.slide_layouts[0]\n",
        "    title_slide = powerpoint.slides.add_slide(title_slide_layout)\n",
        "    title = title_slide.shapes.title\n",
        "    title.text = topic\n",
        "    title.text_frame.paragraphs[0].font.size = TITLE_FONT_SIZE\n",
        "    title.text_frame.paragraphs[0].font.bold = True\n",
        "    content = title_slide.placeholders[1]\n",
        "    content.text = \"Created By AI Gemini Model\"\n",
        "    for i in range(len(sub_titles)):\n",
        "        bulletLayout = powerpoint.slide_layouts[1]\n",
        "        secondSlide = powerpoint.slides.add_slide(bulletLayout)\n",
        "        # accessing the attributes of shapes\n",
        "        myShapes = secondSlide.shapes\n",
        "        titleShape = myShapes.title\n",
        "        bodyShape = myShapes.placeholders[1]\n",
        "        titleShape.text = sub_titles[i]\n",
        "        titleShape.text_frame.paragraphs[0].font.size = Pt(24)\n",
        "        titleShape.text_frame.paragraphs[0].font.bold = True\n",
        "        tFrame = bodyShape.text_frame\n",
        "        for point in final_content[i]:\n",
        "            point = re.sub(r':[^:]+:', ':', point)\n",
        "            point = replace_and_capitalize(point)\n",
        "            p = tFrame.add_paragraph()\n",
        "            p.text = point\n",
        "            p.font.size = Pt(18)\n",
        "            p.space_after = Pt(10)\n",
        "    return powerpoint\n",
        "\n",
        "\n",
        "\n",
        "\n"
      ]
    },
    {
      "cell_type": "code",
      "execution_count": 134,
      "metadata": {
        "id": "-PvSBO6f5ZvG"
      },
      "outputs": [],
      "source": [
        "powerpoint = slide_maker(powerpoint, sub_titles, final_content)"
      ]
    },
    {
      "cell_type": "code",
      "execution_count": 135,
      "metadata": {
        "id": "izKlVWNOshvG"
      },
      "outputs": [],
      "source": [
        "powerpoint.save(f\"powerpoints/{topic}.pptx\")"
      ]
    }
  ],
  "metadata": {
    "accelerator": "GPU",
    "colab": {
      "gpuType": "T4",
      "provenance": []
    },
    "kernelspec": {
      "display_name": "Python 3",
      "name": "python3"
    },
    "language_info": {
      "name": "python"
    }
  },
  "nbformat": 4,
  "nbformat_minor": 0
}
